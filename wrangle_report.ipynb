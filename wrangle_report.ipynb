{
 "cells": [
  {
   "cell_type": "markdown",
   "metadata": {},
   "source": [
    "## Reporting: wrangle_report\n"
   ]
  },
  {
   "cell_type": "markdown",
   "metadata": {},
   "source": [
    "After gathering all the required datasets; the twitter-archive-enchanced.csv, image-predictions.tsv and twitter-json.txt files. I want to point out here, that I my request for a twitter developer account was not approved, so I used the alternative of downloading the json.txt file. As part of data gathering, after downloading the json file, I converted it to pandas dataframe, and thereafter extracted the following columns: id, retweet_count and favorite_count to a dataframe name - df_required_columns.\n",
    "\n",
    "I started my exploratory analysis on each gathered files by first using the 'info()' method to view some attributes of the dataframes.\n",
    "\n",
    "twitter-archive-enhanced.csv\n",
    "- applying the (.info()) method on the twitter archive, I noticed that there are missing rows for some columns. The columns with these missing rows were dropped during the cleaning phase of the data wrangling (reason because,the non-null values for these columns were so few compared to the null value, and moreover, these columns are not necessary for the analyses)\n",
    "\n",
    "- analyzing the rating_numerator column for their unique values, I discovered a value of 1776 which is way higher than other values in the column. I termed this number as possibly an outlier. During my cleaning, this number was changed to 176(reason because, there could have been a typo-error of double 7, resulting in 1776).\n",
    "\n",
    "- reading the text posts of the tweets, I noticed some rating numerators were in decimal format, when I checked the rating_numerator for the particular texts, I found out that the values were wrongly extracted. I manually corrected the rating_numerator with the right decimal values, this led to conversion of the rating_numerator datatype to float.\n",
    "\n",
    "- analyzing this dataframe visually(by taking the dataframe in samples of 10), I noticed that there were some odd name for the dog name columns. Going further, I discovered most of these odd names are in lower letters, hence, I went further to read the text tweets of this rows with low letter name for dogs and discovered that the dog names were not indicated in the post, thus, the wrong names originated from a word in the text being used as dog name. These rows were dropped during the cleaning process (reason because there is no way I could get the right name for the dogs).\n",
    "\n",
    "- also, during the visual analyses, I noticed the different dog stages having values for more than one stages at a row. Reading through the text posts for these rows, I discovered:\n",
    "       - there was a mis-interpretation of the text message\n",
    "       - there were two dogs in a picture.\n",
    "during my cleaning process, the rows with two dog pictures were dropped (reason because they were not much, dropping them would not affect the analyses of the dataframe). the rows were the texts were mis-interpreted was intepreted correctly by making the right changes on the dog stages)\n",
    "\n",
    "- I also noticed these dog stages having respective columns should not be so. This is a tidiness issue. I compiled them all to one column which I named dog_stages during the cleaning process.\n",
    "\n",
    "tweet-json file\n",
    "- on viewing the header of this dataframe, I leant that the column for the tweet_id has a different name from the tweet id of the twitter-archive-enhanced.csv file. I renamed this column to 'tweet_id'(reason: to have a consistent column name for both files)\n",
    "\n",
    "\n",
    "image-prediction file\n",
    "- on checking the uniqueness of the columns in the dataframe, I discovered that there were only two unique values for p1_dog, p2_dog .... columns; True or False. This means that there were cases where the image was flagged as dog and not dog. on querying for p1_dog column equals False, I found out that there were rows where the image was dog. During the cleaning phase, I dropped these rows( reason: I need only dog images for my analyses)\n",
    "\n",
    "- sorting the twitter-archive-enhanced file in descending order of favorite_count, I noticed each rows were having a double value of favorite_count. on further analyses of these rows by viewing the text column, I discovered these rows are original tweets and retweets. The retweets rows were dropped during the cleaning process (reason: the analyzes requires only original tweets; no retweets).\n",
    "\n",
    "- in order to get one clean dataframe for the analyzes, I merged the image-prediction file and the extracted tweet file to the twitter-archive-enhanced file"
   ]
  },
  {
   "cell_type": "code",
   "execution_count": null,
   "metadata": {},
   "outputs": [],
   "source": []
  }
 ],
 "metadata": {
  "kernelspec": {
   "display_name": "Python 3",
   "language": "python",
   "name": "python3"
  },
  "language_info": {
   "codemirror_mode": {
    "name": "ipython",
    "version": 3
   },
   "file_extension": ".py",
   "mimetype": "text/x-python",
   "name": "python",
   "nbconvert_exporter": "python",
   "pygments_lexer": "ipython3",
   "version": "3.8.8"
  }
 },
 "nbformat": 4,
 "nbformat_minor": 2
}
